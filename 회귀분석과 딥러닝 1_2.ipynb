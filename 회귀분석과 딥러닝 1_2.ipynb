{
 "cells": [
  {
   "cell_type": "markdown",
   "metadata": {},
   "source": [
    "https://github.com/hccho2/DL-UPMTP"
   ]
  },
  {
   "cell_type": "markdown",
   "metadata": {},
   "source": [
    "# 제1장 "
   ]
  },
  {
   "cell_type": "markdown",
   "metadata": {},
   "source": [
    "### 1.1.1 Broadcasting  \n",
    "\n",
    "shape이 다른 배열 사이에 연산이 될 수 있도록 array의 shape을 확장시키는 것"
   ]
  },
  {
   "cell_type": "code",
   "execution_count": 4,
   "metadata": {},
   "outputs": [
    {
     "name": "stdout",
     "output_type": "stream",
     "text": [
      "(4, 3)\n",
      "(4, 3)\n"
     ]
    }
   ],
   "source": [
    "import numpy as np\n",
    "A = np.random.randn(4,3)\n",
    "B = np.random.randn(3)\n",
    "result = A*B\n",
    "print(result.shape)\n",
    "\n",
    "A_hat = np.random.randn(4,1)\n",
    "result2 = A_hat*B\n",
    "print(result2.shape)"
   ]
  },
  {
   "cell_type": "markdown",
   "metadata": {},
   "source": [
    "### 1.1.3 Basic Indexing & Advanced Indexing  \n",
    "\n",
    "Basic : Numpy array에서 slicing으로 영역을 추출하는 방식  \n",
    "Advanced : 불연속적인 영역을 추출할 수 있게 해주는 좀 더 유연한 방식"
   ]
  },
  {
   "cell_type": "code",
   "execution_count": 5,
   "metadata": {},
   "outputs": [
    {
     "data": {
      "text/plain": [
       "array([1.44758924, 1.28779606, 1.45162971, 1.51953057])"
      ]
     },
     "execution_count": 5,
     "metadata": {},
     "output_type": "execute_result"
    }
   ],
   "source": [
    "X = np.random.randn(5,4)\n",
    "\n",
    "X[1:4,1:3] # Basic Indexing\n",
    "X[X>0.5] # Advanced Indexing"
   ]
  },
  {
   "cell_type": "code",
   "execution_count": 13,
   "metadata": {},
   "outputs": [
    {
     "name": "stdout",
     "output_type": "stream",
     "text": [
      "[[ -5 -99   0   7]\n",
      " [ -1   9   3   8]\n",
      " [ -3  -3   4   6]]\n"
     ]
    }
   ],
   "source": [
    "x = np.array([[-5,2,0,7],\n",
    "              [-1,9,3,8],\n",
    "              [-3,-3,4,6]])\n",
    "\n",
    "a=x[::2,1] # view x값도 변한다\n",
    "b=x[[0,2],[1,1]] # copy x와 무관\n",
    "\n",
    "a[0]=-99\n",
    "b[1]=-99\n",
    "\n",
    "print(x)"
   ]
  },
  {
   "cell_type": "code",
   "execution_count": 15,
   "metadata": {},
   "outputs": [
    {
     "data": {
      "text/plain": [
       "array([ 1.44758924, -0.45347844,  0.47589489,  1.45162971,  1.51953057])"
      ]
     },
     "execution_count": 15,
     "metadata": {},
     "output_type": "execute_result"
    }
   ],
   "source": [
    "X.argmax(axis=-1) # 행(axis=-1) 뱡향으로 최댓값을 가지는 인덱스 추출\n",
    "\n",
    "X[np.arange(len(X)),X.argmax(axis=-1)] # 행 방향으로 최댓값 추출"
   ]
  },
  {
   "cell_type": "markdown",
   "metadata": {},
   "source": [
    "### 1.1.4 numpy.add.at  \n",
    "\n",
    "neural network의 back-propagation 연산에서 중요하게 활용"
   ]
  },
  {
   "cell_type": "code",
   "execution_count": 16,
   "metadata": {},
   "outputs": [
    {
     "name": "stdout",
     "output_type": "stream",
     "text": [
      "[ 1 12  0 20  0  0]\n"
     ]
    }
   ],
   "source": [
    "# 1차원 예시\n",
    "a=np.array([0,0,0,0,0,0])\n",
    "idx = [0,1,1,3]\n",
    "b=np.array([1,2,10,20])\n",
    "np.add.at(a,idx,b) # 수식 : a[idx(k)] += b(k) , k=0,1,2,3\n",
    "print(a)"
   ]
  },
  {
   "cell_type": "code",
   "execution_count": 18,
   "metadata": {},
   "outputs": [
    {
     "name": "stdout",
     "output_type": "stream",
     "text": [
      "[[ 0  0  0 10]\n",
      " [ 0  5  0  0]]\n"
     ]
    }
   ],
   "source": [
    "# 2차원 예시\n",
    "a=np.zeros([2,4],int)\n",
    "np.add.at(a,([1,0],[1,3]),[5,10])\n",
    "print(a)"
   ]
  },
  {
   "cell_type": "markdown",
   "metadata": {},
   "source": [
    "### 1.1.7 행렬곱을 벡터들의 가중합으로 보기"
   ]
  },
  {
   "cell_type": "code",
   "execution_count": 20,
   "metadata": {},
   "outputs": [
    {
     "name": "stdout",
     "output_type": "stream",
     "text": [
      "W :  [[ 0.1152294   0.49865927 -0.92068041 -1.61682825  0.15195281]\n",
      " [ 0.06900114 -0.17376298 -0.41373324  0.35268814 -2.04404204]] \n",
      " H :  [[[-0.28069757  0.1968865  -0.62859051]\n",
      "  [ 0.04157447 -0.02758024  0.31779428]\n",
      "  [-0.13383906 -1.14156615 -2.18094907]\n",
      "  [-1.89761588  0.36123542  0.43653655]\n",
      "  [-0.32835263 -1.18352858 -1.05146306]]\n",
      "\n",
      " [[-1.36083487  0.2271098  -1.46682092]\n",
      "  [ 0.80694094  0.15172852 -0.65712482]\n",
      "  [ 0.2158772  -0.63528573 -0.04441591]\n",
      "  [-2.35288859  0.18415883  0.06942324]\n",
      "  [ 0.5746291   0.54123783  1.30720888]]]\n",
      "A1 :  [[[ 3.12983474  0.29605544  1.22841865]]\n",
      "\n",
      " [[-2.32783315 -0.78921739 -2.61615716]]]\n",
      "A2 :  [[ 3.12983474  0.29605544  1.22841865]\n",
      " [-2.32783315 -0.78921739 -2.61615716]]\n"
     ]
    }
   ],
   "source": [
    "# N개 데이터를 배치로 처리\n",
    "batch_size = 2; n=5; m=3\n",
    "W = np.random.randn(batch_size,n)\n",
    "H = np.random.randn(batch_size,n,m)\n",
    "print('W : ',W,'\\n','H : ',H)\n",
    "\n",
    "A= np.matmul(W[:,None,:],H) # (batch_size,1,n)*(batch_size,n,m) --> (batch_size,1,m)\n",
    "print('A1 : ',A)\n",
    "A = A.squeeze(1) # (batch_size,1,m) --> (batch_size,m)\n",
    "print('A2 : ',A)"
   ]
  },
  {
   "cell_type": "markdown",
   "metadata": {},
   "source": [
    "## 1.2 Tensorflow 기초\n",
    "### 1.2.1 tf.constant, tf.convert_to_tensor, tf.Variable"
   ]
  },
  {
   "cell_type": "code",
   "execution_count": null,
   "metadata": {},
   "outputs": [],
   "source": [
    "%pip install Tensorflow"
   ]
  },
  {
   "cell_type": "code",
   "execution_count": 5,
   "metadata": {},
   "outputs": [],
   "source": [
    "import tensorflow as tf\n",
    "import numpy as np"
   ]
  },
  {
   "cell_type": "code",
   "execution_count": 7,
   "metadata": {},
   "outputs": [
    {
     "name": "stdout",
     "output_type": "stream",
     "text": [
      "X : [[ 0.84 -0.15 -1.33]\n",
      " [ 0.11 -0.36  0.08]]\n",
      "Y : [ 0.84 -0.15 -1.33  0.11 -0.36  0.08]\n",
      "V : <tf.Variable 'Variable:0' shape=(2, 3) dtype=float64, numpy=\n",
      "array([[ 1.68, -0.3 , -2.66],\n",
      "       [ 0.22, -0.72,  0.16]])>\n",
      "Z : [[ 1.68 -0.3  -2.66]\n",
      " [ 0.22 -0.72  0.16]]\n"
     ]
    }
   ],
   "source": [
    "a=np.array([[0.84,-0.15,-1.33],\n",
    "          [0.11,-0.36,0.08]])\n",
    "\n",
    "X= tf.convert_to_tensor(a)\n",
    "Y= tf.constant(a,shape=(6,))\n",
    "\n",
    "V= tf.Variable(a) # Variable은 Gradient가 계산되는 훈련 가능한 Tensor\n",
    "V.assign_add(X)\n",
    "\n",
    "Z=tf.convert_to_tensor(V)\n",
    "\n",
    "print(f'X : {X}')\n",
    "print(f'Y : {Y}')\n",
    "print(f'V : {V}')\n",
    "print(f'Z : {Z}')"
   ]
  },
  {
   "cell_type": "markdown",
   "metadata": {},
   "source": [
    "### 1.2.2 tf.gather, tf.gather_nd  \n",
    "\n",
    "Tensorflow에서는 Advanced Indexing이 직접적으로 허용되지 않는다.\n",
    "tf.gather(),tf.gather_nd() API를 이용해서 처리 가능"
   ]
  },
  {
   "cell_type": "code",
   "execution_count": 9,
   "metadata": {},
   "outputs": [
    {
     "name": "stdout",
     "output_type": "stream",
     "text": [
      "X: \n",
      " [[0.5267 0.0362 0.171  0.2661]\n",
      " [0.0076 0.0247 0.8906 0.0771]\n",
      " [0.265  0.2017 0.4556 0.0777]\n",
      " [0.0972 0.4766 0.3375 0.0887]\n",
      " [0.11   0.2512 0.2637 0.3751]]\n",
      "idx:  [0 2 2 1 3]\n",
      "====================\n",
      "Numpy:  [0.5267 0.8906 0.4556 0.4766 0.3751]\n",
      "TF(batch_dims=1):  tf.Tensor([0.5267 0.8906 0.4556 0.4766 0.3751], shape=(5,), dtype=float64)\n",
      "TF(batch_dims=0):  tf.Tensor(\n",
      "[[0.5267 0.171  0.171  0.0362 0.2661 0.0362 0.171 ]\n",
      " [0.0076 0.8906 0.8906 0.0247 0.0771 0.0247 0.8906]\n",
      " [0.265  0.4556 0.4556 0.2017 0.0777 0.2017 0.4556]\n",
      " [0.0972 0.3375 0.3375 0.4766 0.0887 0.4766 0.3375]\n",
      " [0.11   0.2637 0.2637 0.2512 0.3751 0.2512 0.2637]], shape=(5, 7), dtype=float64)\n"
     ]
    }
   ],
   "source": [
    "X = np.array([[0.5267, 0.0362, 0.171,  0.2661],\n",
    "                [0.0076,  0.0247, 0.8906, 0.0771],\n",
    "                [0.265,   0.2017, 0.4556, 0.0777],\n",
    "                [0.0972,  0.4766, 0.3375, 0.0887],\n",
    "                [0.11,    0.2512, 0.2637, 0.3751]])\n",
    "print('X: \\n', X)\n",
    "idx = np.array([0,2,2,1,3])\n",
    "print('idx: ', idx)\n",
    "\n",
    "print('='*20)\n",
    "A = X[np.arange(len(X)),idx ]\n",
    "print(\"Numpy: \", A)\n",
    "\n",
    "assert len(idx) ==len(X) # assert : 거짓이면 오류 출력\n",
    "B  = tf.gather(X,idx,axis=1,batch_dims=1) # [(0,0), (1,2), (2,2), (3,1), (4,3)] 원소를 추출한다.\n",
    "print(\"TF(batch_dims=1): \", B)\n",
    "\n",
    "idx2 = [0,2,2,1,3,1,2]\n",
    "C  = tf.gather(X,idx2,axis=1,batch_dims=0) # 열 추출\n",
    "print(\"TF(batch_dims=0): \", C)"
   ]
  },
  {
   "cell_type": "code",
   "execution_count": 11,
   "metadata": {},
   "outputs": [
    {
     "name": "stdout",
     "output_type": "stream",
     "text": [
      "idx:  [(0, 0), (1, 2), (2, 2), (3, 1), (4, 3)]\n",
      "tf.Tensor([0.5267 0.8906 0.4556 0.4766 0.3751], shape=(5,), dtype=float64)\n"
     ]
    }
   ],
   "source": [
    "idx_ = list(zip(np.arange(len(idx)),idx)) # zip은 동일한 개수로 이루어진 데이터들을 묶어서 리턴 (튜블로 변환)\n",
    "print('idx: ', idx_)\n",
    "print(tf.gather_nd(X,idx_)) # tf.gather_nd()는 indices를 구체적으로 명시하는 방식"
   ]
  },
  {
   "cell_type": "markdown",
   "metadata": {},
   "source": [
    "### 1.2.3 tf.math  \n",
    "\n",
    "각종 수학적인 연산과 기본적인 함수에대한 API 제공"
   ]
  },
  {
   "cell_type": "code",
   "execution_count": null,
   "metadata": {},
   "outputs": [],
   "source": [
    "Z=tf.math.add(X,Y) # 2개 Tensor를 합하는 API"
   ]
  },
  {
   "cell_type": "markdown",
   "metadata": {},
   "source": [
    "### 1.2.4 Class vs Function API  \n",
    "\n",
    "Tensorflow에서는 같은 기능을 함수와 Class 형태로 제공\n",
    "\n",
    "| Type | 작명규칙(Naming Convention) | 예 |\n",
    "|-------|-------|-------|\n",
    "| Function | 소문자로만 사용, (_)로 구분 | func, my_func |\n",
    "| Class | 대문자로 시작, (_) 사용 금지 | MyClass, Model |\n",
    "| Constant | 대문자만 사용, (_)로 구분 | MY_COSTANT,<br>LEARNING_RATE |\n"
   ]
  },
  {
   "cell_type": "markdown",
   "metadata": {},
   "source": [
    "## 1.3 Pytorch 기초  \n",
    "\n",
    "Pytorch에서는 Numpy Array를 직접적으로 받아즐이지는 못하고 Pytorch Tensor로 변환해서 모델에 넣을 수 있다.  \n",
    "List나 Numpy Array를 Pytorch Tensor로 변환하는 기본 API는 torch.tensor()이다."
   ]
  },
  {
   "cell_type": "code",
   "execution_count": null,
   "metadata": {},
   "outputs": [],
   "source": [
    "%pip install torch"
   ]
  },
  {
   "cell_type": "code",
   "execution_count": 15,
   "metadata": {},
   "outputs": [
    {
     "data": {
      "text/plain": [
       "'2.4.1'"
      ]
     },
     "execution_count": 15,
     "metadata": {},
     "output_type": "execute_result"
    }
   ],
   "source": [
    "import torch\n",
    "import numpy as np\n",
    "torch.__version__  # 1.13.1+cu116"
   ]
  },
  {
   "cell_type": "code",
   "execution_count": 16,
   "metadata": {},
   "outputs": [
    {
     "name": "stdout",
     "output_type": "stream",
     "text": [
      "torch.int64\n",
      "torch.float32\n",
      "torch.float64\n",
      "torch.float32\n"
     ]
    }
   ],
   "source": [
    "# dtype을 결정하지 않으면, 타입은 data에 따라 적절히 정해진다\n",
    "print(torch.tensor([1,2]).dtype)\n",
    "print(torch.tensor([1.,2.]).dtype)\n",
    "print(torch.tensor(np.array([1.,2.])).dtype)\n",
    "print(torch.tensor(np.array([1.,2.]),dtype=torch.float).dtype)\n"
   ]
  },
  {
   "cell_type": "code",
   "execution_count": 17,
   "metadata": {},
   "outputs": [
    {
     "name": "stdout",
     "output_type": "stream",
     "text": [
      "tensor([1., 2., 3., 9.]) tensor([-1,  2,  3,  9])\n"
     ]
    }
   ],
   "source": [
    "a= np.array([1,2,3,9])\n",
    "b= torch.tensor(a,dtype=torch.float32) # copy\n",
    "c= torch.from_numpy(a) # 메모리 공유\n",
    "a[0]=-1 # c도 같이 변경된다\n",
    "print(b,c)"
   ]
  },
  {
   "cell_type": "markdown",
   "metadata": {},
   "source": [
    "Pytorch Tensor는 device를 구분한다.  \n",
    "Numpy Array로부터 생성될 때에는 CPU-Tensor로 생성.  \n",
    "CPU-Tensor는 **to()** 로 device를 변경할 수 있다.  \n",
    "\n",
    "ex : `y=x.to('cuda')`"
   ]
  },
  {
   "cell_type": "code",
   "execution_count": null,
   "metadata": {},
   "outputs": [],
   "source": [
    "device= torch.device('cuda' if torch.cuda.is_available() else 'cpu')\n",
    "model = ...\n",
    "model.to(device)"
   ]
  },
  {
   "cell_type": "markdown",
   "metadata": {},
   "source": [
    "## 1.4 Pandas\n",
    "\n"
   ]
  },
  {
   "cell_type": "markdown",
   "metadata": {},
   "source": [
    "# 제 2장 회귀분석  \n",
    "\n",
    "## 2.1 머신러닝과 회귀분석\n",
    "\n",
    "### 2.1.1 선형회귀 분석\n",
    "\n",
    "y=ax+b\n",
    "여기서 a,b는 찾아야 할 파라메터\n",
    "W = (a,b)이고 fw(x) = ax+b\n",
    "a,b를 통칭하여 가중치(weight) 또는 파라메터(parameter)라고 한다 *이때 b를 편향(bias)이라 부르기도 함  \n",
    "\n",
    "*오차,Error 또는 Cost* : y(데이터)와 추정치(y^)의 차이 (계산할 때 절댓값을 구하기도 하고 차이를 제곱하기도 함)  \n",
    "*MSE(Mean Squared Error)* : 모든 data의 제곱 오차를 평균한 전체 오차"
   ]
  },
  {
   "cell_type": "markdown",
   "metadata": {},
   "source": [
    "## 2.2 회귀분석 모델의 행렬 표현  \n",
    "\n",
    "shape이 다른 행렬을 더하는 연산을 broadcasting이라 부른다"
   ]
  },
  {
   "cell_type": "markdown",
   "metadata": {},
   "source": [
    "### 2.2.1 손실 함수(Loss Function)  \n",
    "\n",
    "*L2 norm* :목푯값 Y와 모델 예측값 Y^의 각 원소 차의 제곱합에 제곱근을 취한 값  \n",
    "MSE=1/N(L2 norm 제곱)  \n",
    "\n",
    "MSE외에도 여러 가지 Loss 함수를 도입 가능  \n",
    "손실 함수를 비용(Cost) 함수라 부르기도 한다  \n",
    "\n",
    "*L1 norm* : 목푯값과 예측값의 차이의 절댓값의 합으로 정의"
   ]
  },
  {
   "cell_type": "markdown",
   "metadata": {},
   "source": [
    "### 2.2.3 n차원 입력 데이터, m차원 출력 데이터  \n",
    "\n",
    "입력되는 데이터를 feature(피쳐,특성)라고 부르기도 한다.  \n",
    "그래서 feature의 차원이 n이라고 할 수 있다.  \n",
    "\n",
    "입력 데이터의 차원이 n이고 출력의 차원이 m인 경우 `Y^ = XM + B`의 크기는 (N x M)이 된다 * 이때 bias B는 broadcasting이 되어 (1 x m) -> (N x m)으로 변형"
   ]
  },
  {
   "cell_type": "markdown",
   "metadata": {},
   "source": [
    "### 2.2.4 Normal Equation(정규 방정식)  \n",
    "\n",
    "$\\theta = (X^T X)^{-1} X^T y$"
   ]
  },
  {
   "cell_type": "code",
   "execution_count": 1,
   "metadata": {},
   "outputs": [
    {
     "name": "stdout",
     "output_type": "stream",
     "text": [
      "true values: 2.0, 0.5  --> 예측값: 2.013, 0.482\n"
     ]
    }
   ],
   "source": [
    "import numpy as np\n",
    "\n",
    "np.random.seed(100)\n",
    "N = 50\n",
    "a = 2.0; b = 0.5\n",
    "\n",
    "X = np.random.rand(N) # shape(N,)\n",
    "Y = a*X + b + np.random.randn(N)*0.05\n",
    "X = np.stack([X,np.ones(N)],axis=1) # bias를 위해 1로 된 column 추가, shape(N,2)\n",
    "a_pred, b_pred = np.linalg.inv(X.T.dot(X)).dot(X.T.dot(Y)) # normal equation\n",
    "print(f'true values: {a}, {b}  --> 예측값: {a_pred:.3f}, {b_pred:.3f}')"
   ]
  },
  {
   "cell_type": "markdown",
   "metadata": {},
   "source": [
    "## 미분과 역전파  \n",
    "\n",
    "### 2.3.1 경사하강법(Gradient Descent)  \n",
    "\n",
    "1. Batch Gradient Descent(BGD): 전체 데이터를 사용하여 Loss에 대한 weight들의 Gradient를 계산한 후, 경사하강법을 적용하는 방식. \n",
    "2. Mini-Batch Gradient Descent: 전체 데이터를 일정 크기(batch size)로 나눈 데이터를 미니배치(Mini Batch)라고 한다. 이 미니 배치에 댄한 Gradient로 경사하강법 적용. \n",
    "3. Stochastic Gradient Descent(SGD): 데이터 1개에 대한 Gradient로 경사하강법을 적용"
   ]
  },
  {
   "cell_type": "markdown",
   "metadata": {},
   "source": [
    "### 2.3.2 연쇄 법칙(Chain Rule)  \n",
    "\n",
    "1. **forward propagation(순전파)**: 입력 데이터를 모델에 넣어 예측값을 생성하는 과정  \n",
    "\n",
    "    $\\mathbf{z} = \\mathbf{W} \\mathbf{x} + \\mathbf{b}$\n",
    "\n",
    "    $\\mathbf{a} = f(\\mathbf{z})$\n",
    "\n",
    "    입력값 x에서 L이 구해지는 과정  \n",
    "    forward 계산 과정에서의 중간 값들을 저장하여 backward propagation에서 사용  \n",
    "<br>\n",
    "<br>\n",
    "2. **backward propagation(역전파)**: loss 값을 미분해서 각 변수별로 gradient를 계산하는 과정  \n",
    "\n",
    "    $\\delta^{(l)} = (\\mathbf{W}^{(l+1)})^T \\delta^{(l+1)} \\odot f'(\\mathbf{z}^{(l)})$\n",
    "    가중치 업데이트는 다음과 같습니다.\n",
    "\n",
    "    $\\mathbf{W}^{(l)} \\leftarrow \\mathbf{W}^{(l)} - \\eta \\cdot \\delta^{(l)} \\cdot \\mathbf{a}^{(l-1)T}$  \n",
    "    gradient를 계산하기 위해서는 foward의 역순으로 계산이 이루어지기 때문에 backward라 부른다  \n",
    "    backward propagation에서는 미분이 필요하고, 이 미분 계산의 핵심은 연쇄 법칙이다.  \n",
    "<br>\n",
    "<br>\n",
    "다변수의 (편)미분을 벡터 형태로 모아 놓은 것을 gradient라 한다."
   ]
  },
  {
   "cell_type": "markdown",
   "metadata": {},
   "source": [
    "### 2.3.8 Gradient 표기 \n",
    "\n",
    "변수 Z:(kxl)가 있고 Loss함수 L이 있다고 하면 L(Z)는 실숫 값이 된다  \n",
    "$\\nabla L = \\frac{dL}{dZ}$  \n",
    "줄여서 *dZ*로 표기"
   ]
  },
  {
   "cell_type": "markdown",
   "metadata": {},
   "source": [
    "## 2.4 선형회귀 모델 구현  \n",
    "\n",
    "### 2.4.1 Numpy로 구현  \n",
    "\n",
    "기본 연산만으로 구현하는 것을 밑바닥부터 구현이라 부른다"
   ]
  },
  {
   "cell_type": "code",
   "execution_count": 1,
   "metadata": {},
   "outputs": [
    {
     "name": "stdout",
     "output_type": "stream",
     "text": [
      "0/2000: loss = 0.4091347068168067\n",
      "200/2000: loss = 0.06272225549527034\n",
      "400/2000: loss = 0.03416653676094246\n",
      "600/2000: loss = 0.01894824087043477\n",
      "800/2000: loss = 0.01083412857209777\n",
      "1000/2000: loss = 0.00650783465125544\n",
      "1200/2000: loss = 0.004201135113289112\n",
      "1400/2000: loss = 0.0029712457771022887\n",
      "1600/2000: loss = 0.0023154916338471747\n",
      "1800/2000: loss = 0.001965855708285385\n"
     ]
    }
   ],
   "source": [
    "import numpy as np\n",
    "np.random.seed(100)\n",
    "learning_rate = 0.01; N=50\n",
    "x= np.random.rand(N) # random으로 데이터 생성\n",
    "Y=2*x +0.5 +np.random.rand(N)*0.15\n",
    "X=np.stack([x,np.ones(N)],axis=1) # 1로 구성된 column추가\n",
    "\n",
    "W = np.random.randn(2) # random normal로 초기값 설정하여 weight 생성\n",
    "Loss_all = []\n",
    "M=2000\n",
    "for i in range(M):\n",
    "    Y_hat = X.dot(W) # 행렬곱\n",
    "    Loss = np.square(Y_hat-Y).sum()/N # 손실함수 계산\n",
    "    Loss_all.append(Loss)\n",
    "    dY = 2*(Y_hat-Y)/N\n",
    "    dW = X.T.dot(dY)\n",
    "    W= W -learning_rate*dW # W 업데이트\n",
    "    if i%200==0:\n",
    "        print(f'{i}/{M}: loss = {Loss}')"
   ]
  },
  {
   "cell_type": "code",
   "execution_count": null,
   "metadata": {},
   "outputs": [],
   "source": [
    "%pip install matplotlib"
   ]
  },
  {
   "cell_type": "code",
   "execution_count": null,
   "metadata": {},
   "outputs": [],
   "source": [
    "%pip install koreanize-matplotlib\n",
    "\n",
    "import koreanize_matplotlib"
   ]
  },
  {
   "cell_type": "code",
   "execution_count": 9,
   "metadata": {},
   "outputs": [
    {
     "data": {
      "text/plain": [
       "Text(0.5, 0.98, 'Numpy로 계산한 결과')"
      ]
     },
     "execution_count": 9,
     "metadata": {},
     "output_type": "execute_result"
    },
    {
     "data": {
      "image/png": "[encoded data removed]",
      "text/plain": [
       "<Figure size 1500x700 with 2 Axes>"
      ]
     },
     "metadata": {},
     "output_type": "display_data"
    }
   ],
   "source": [
    "import matplotlib.pyplot as plt\n",
    "plt.figure(figsize=(15,7))\n",
    "plt.subplot(1,2,1)\n",
    "plt.plot(Loss_all,label='loss')\n",
    "plt.legend()\n",
    "\n",
    "plt.subplot(1,2,2)\n",
    "plt.scatter(x,Y,s=10)\n",
    "x_temp=np.arange(0,1,0.01)\n",
    "a,b=W\n",
    "yy=a*x_temp + b\n",
    "plt.plot(x_temp,yy,c='r')\n",
    "\n",
    "plt.ylim(0,3); plt.xlim(0,1)\n",
    "plt.text(0.2,2,f\"$y={a:.2f}x+{b:.2f}$\")\n",
    "\n",
    "plt.plot([x.mean()],[Y.mean()],'ro',markersize=10)\n",
    "plt.annotate(\"(x평균,y평균)\",xy=(x.mean(),Y.mean()),xytext=(0.6,0.5),\n",
    "    arrowprops=dict(arrowstyle=\"->\",linestyle=\"--\",linewidth=2,color='k'),fontsize=15)\n",
    "plt.suptitle('Numpy로 계산한 결과',fontsize=20)"
   ]
  },
  {
   "cell_type": "markdown",
   "metadata": {},
   "source": [
    "### 2.4.2 Numpy 모델로부터 추론  \n",
    "\n",
    "모델의 훈련이 끝난 후 새로운 데이터를 넣어 예측값을 추출하는 과정을 추론(inference)이라 한다"
   ]
  },
  {
   "cell_type": "code",
   "execution_count": 11,
   "metadata": {},
   "outputs": [
    {
     "name": "stdout",
     "output_type": "stream",
     "text": [
      "0.52에 대한 예측값 = 1.610604\n",
      "0.75에 대한 예측값 = 2.057212\n"
     ]
    }
   ],
   "source": [
    "new_data=np.array([0.52,0.75])\n",
    "a,b = W\n",
    "prediction=a*new_data + b\n",
    "for x_,y_ in zip(new_data,prediction):\n",
    "    print(f'{x_}에 대한 예측값 = {y_:4f}')"
   ]
  },
  {
   "cell_type": "markdown",
   "metadata": {},
   "source": [
    "### 2.4.3 Tensorflow로 구현  \n",
    "\n",
    "**FC layer** : 단순히 입력데이터 X에 weight 행렬 W를 곱하는 모델을 neural network에서는 Fully Connectde Layer라고 부른다.  \n",
    "\n",
    "FC layer의 Tensorflow API : `tf.keras.layer.Dense(units,use_bias=True)`  \n",
    "- units는 출려의 크기(차원)  \n",
    "- tf.keras.Model에서는 처음으로 들어오는 구체적인 입력값의 크기에 따라 weight tensor의 크기가 결정된다.  \n",
    "- `model.build()`를 해주면 구체적인 입력값을 넣지 않고 모델의  weight shape이 결정되게 할 수 있다.  \n",
    "<br>\n",
    "\n",
    "Tensorflow의 경사 하강법(Gradient Descent) API : `tk.keras.optimizers.SGD(learning_rate=0.01)`  \n",
    "<br>\n",
    "\n",
    "compile이라는 API로 model,optimizer,loss 함수 결합 : `tf.keras.Model.compile(optimizer,loss)`  \n",
    "- Loss 함수를 MSE로 설정하는 방법은 loss=tf.keras.losses.MeanSquaredError() 또는 loss='mse'  \n",
    "<br>\n",
    "\n",
    "`model.fit()`을 통해 train(훈련)이 이루어진다 : `tf.keras.Model.fit(x=None, y=None, batch_size=None, epochs=1, verbose)`  \n",
    "- verbose : 로그 메시지를 출려하는 정도를 조절하는 옵션  \n",
    "- 100회 반복이 1-epoch"
   ]
  },
  {
   "cell_type": "code",
   "execution_count": 13,
   "metadata": {},
   "outputs": [],
   "source": [
    "import numpy as np\n",
    "import tensorflow as tf\n",
    "\n",
    "np.random.seed(100); tf.keras.utils.set_random_seed(100)\n",
    "learning_rate=0.01\n",
    "n_epochs = 2000\n",
    "N=50\n",
    "\n",
    "x=np.random.rand(N)\n",
    "Y=2*x +0.5 +np.random.rand(N)*0.15\n",
    "X=x.reshape(-1,1) # (N,) -> (N,1)\n",
    "\n",
    "model = tf.keras.Sequential([tf.keras.layers.Dense(1,use_bias=True)])\n",
    "optimizer = tf.keras.optimizers.SGD(learning_rate=learning_rate)\n",
    "model.compile(optimizer,loss='mse')\n",
    "\n",
    "history=model.fit(X,Y,batch_size=N,epochs=n_epochs,verbose=0)"
   ]
  },
  {
   "cell_type": "code",
   "execution_count": 15,
   "metadata": {},
   "outputs": [
    {
     "name": "stdout",
     "output_type": "stream",
     "text": [
      "<Sequential name=sequential_1, built=True>\n",
      "기울기:1.95\n",
      "bias: 0.60\n"
     ]
    }
   ],
   "source": [
    "print(model)\n",
    "print(f'기울기:{model.weights[0][0,0].numpy():.2f}')\n",
    "print(f'bias: {model.weights[1][0].numpy():.2f}')"
   ]
  },
  {
   "cell_type": "markdown",
   "metadata": {},
   "source": [
    "### 2.4.4 Tensorflow 모델로부터 추론  \n",
    "\n",
    "`model.predict(x,batch_size,verbose='auto', ...)`"
   ]
  },
  {
   "cell_type": "code",
   "execution_count": 18,
   "metadata": {},
   "outputs": [
    {
     "name": "stdout",
     "output_type": "stream",
     "text": [
      "\u001b[1m1/1\u001b[0m \u001b[32m━━━━━━━━━━━━━━━━━━━━\u001b[0m\u001b[37m\u001b[0m \u001b[1m0s\u001b[0m 15ms/step\n",
      "0.52에 대한 예측값 = 1.6108\n",
      "0.75에 대한 예측값 = 2.0597\n"
     ]
    }
   ],
   "source": [
    "new_data= np.array([0.52,0.75])\n",
    "\n",
    "prediction=model.predict(new_data).reshape(-1) # (N,1)->(N,)\n",
    "for x,y in zip(new_data,prediction):\n",
    "    print(f'{x}에 대한 예측값 = {y:.4f}')"
   ]
  },
  {
   "cell_type": "markdown",
   "metadata": {},
   "source": [
    "### 2.4.5 Pytorch로 구현  \n",
    "\n",
    "Pytorch에서는 Numpy Array를 Pytorch Tensor로 직접 변환 해야함  \n",
    "\n",
    "FC layer : `torch.nn.linear(in_features, out_features, bias=True)`  \n",
    "- in_features,out_features는 각각 입력의 크기, 출력의 크기\n",
    "<br>\n",
    "\n",
    "MSE Loss 함수 API : `torch.nn.MSELoss()`  \n",
    "<br>\n",
    "\n",
    "경사하강법 API : `torch.optim.SGD(params, lr)`\n",
    "- params : 최적화 API를 optimizer라 부르는데, optimizer에는 학습 대상이 되는 trainable weight(parameter)를 넘겨 주어야 한다. 이는 `model.parameters()`를 통해 넘겨 주어야 함  \n",
    "- lr : lr에는 학습률(learning_rate)을 지정하면 된다\n",
    "\n",
    "<br>\n",
    "<br>\n",
    "\n",
    "훈련  \n",
    "- optimizer.zero_grad() : optimizer가 넘겨 받은 parameter들의 gradient값을 0으로 초기화 한다.  \n",
    "- loss.backward : Pytorch Tensor의 계산 과정에 관여한 Tensor들의 gradient를 계산한다. 여기서 Tensor는 loss이다.\n",
    "- optimizer.step() : optimizer의 대상이 되는 파라미터 Tensor들을(W) 업데이트한다."
   ]
  },
  {
   "cell_type": "code",
   "execution_count": 20,
   "metadata": {},
   "outputs": [
    {
     "name": "stdout",
     "output_type": "stream",
     "text": [
      "cpu\n",
      "0/2000: loss = 2.0522611141204834\n",
      "200/2000: loss = 0.3047095835208893\n",
      "400/2000: loss = 0.1726619154214859\n",
      "600/2000: loss = 0.10229284316301346\n",
      "800/2000: loss = 0.06477334350347519\n",
      "1000/2000: loss = 0.04476871341466904\n",
      "1200/2000: loss = 0.03410260006785393\n",
      "1400/2000: loss = 0.028415609151124954\n",
      "1600/2000: loss = 0.025383437052369118\n",
      "1800/2000: loss = 0.02376674860715866\n"
     ]
    }
   ],
   "source": [
    "import torch\n",
    "import numpy as np\n",
    "import matplotlib.pyplot as plt\n",
    "\n",
    "def torch_reset_seed(seed=100):\n",
    "    torch.manual_seed(seed)\n",
    "    if torch.cuda.is_available():\n",
    "        torch.cuda.manual_seed_all(seed)\n",
    "        torch.backends.cudnn.deterministic = True # 속도 저하\n",
    "        torch.backends.cudnn.benchmark = False # 속도 저하\n",
    "\n",
    "\n",
    "\n",
    "np.random.seed(100); np.random.seed(100)\n",
    "device = torch.device('cuda' if torch.cuda.is_available() else 'cpu')\n",
    "print(device)\n",
    "\n",
    "torch_reset_seed(100)\n",
    "\n",
    "learning_rate = 0.01\n",
    "n_epochs = 2000\n",
    "N = 50\n",
    "\n",
    "x = np.random.rand(N)  # np.float64\n",
    "y = 2*x + 0.5 + np.random.randn(N)*0.15\n",
    "\n",
    "X = torch.Tensor(x).reshape(-1,1).to(device)  # torch.tensor(x,dtype=torch.float32).reshape(-1,1).to(device)\n",
    "Y = torch.Tensor(y).to(device)\n",
    "\n",
    "model = torch.nn.Linear(1,1)\n",
    "model.to(device)\n",
    "loss_fn = torch.nn.MSELoss()\n",
    "optimizer = torch.optim.SGD(model.parameters(), lr=learning_rate)\n",
    "\n",
    "Loss_all = []\n",
    "# train mode 변환\n",
    "model.train()  # 딥러닝 모델의 layer는 train 할 때와 test(evluation, inference)할 때 다르게 동작하는 것들이 있어 mode를 지정하는 코드를 작성해주는 것이 좋다.\n",
    "\n",
    "for i in range(n_epochs):\n",
    "    optimizer.zero_grad()\n",
    "    Y_hat = model(X)\n",
    "    Loss = loss_fn(Y_hat.reshape(-1),Y)\n",
    "    Loss_all.append(Loss.item())\n",
    "    Loss.backward()\n",
    "    optimizer.step()\n",
    "    if i%200==0:\n",
    "        print(f'{i}/{n_epochs}: loss = {Loss.item()}')"
   ]
  },
  {
   "cell_type": "code",
   "execution_count": 21,
   "metadata": {},
   "outputs": [
    {
     "data": {
      "text/plain": [
       "Text(0.5, 0.98, 'Pytorch로 계산한 결과')"
      ]
     },
     "execution_count": 21,
     "metadata": {},
     "output_type": "execute_result"
    },
    {
     "data": {
      "image/png": "[encoded data removed]",
      "text/plain": [
       "<Figure size 1500x500 with 2 Axes>"
      ]
     },
     "metadata": {},
     "output_type": "display_data"
    }
   ],
   "source": [
    "plt.figure(figsize=(15,5))\n",
    "\n",
    "plt.subplot(1,2,1)\n",
    "plt.plot(Loss_all,label='loss')\n",
    "plt.legend()\n",
    "\n",
    "plt.subplot(1,2,2)\n",
    "plt.scatter(x,y,s=10)\n",
    "x_temp = np.arange(0,1,0.01)\n",
    "a,b = model.weight.item(), model.bias.item()\n",
    "yy = a*x_temp + b\n",
    "plt.plot(x_temp,yy,c='r')\n",
    "\n",
    "plt.ylim(0,3)\n",
    "plt.xlim(0,1)\n",
    "plt.text(0.2,2,f\"$y={a:.2f}x + {b:.2f}$\",fontsize=15)\n",
    "\n",
    "plt.plot([x.mean()],[y.mean()],'ro',markersize=10)\n",
    "\n",
    "plt.annotate(\"(x평균,y평균)\", xy=(x.mean(), y.mean()), xytext=(0.6, 0.5), arrowprops=dict(arrowstyle=\"->\",linestyle=\"--\", linewidth=2,color='k'),fontsize=15)\n",
    "plt.suptitle('Pytorch로 계산한 결과',fontsize=20)\n",
    "     "
   ]
  },
  {
   "cell_type": "markdown",
   "metadata": {},
   "source": [
    "### 2.4.6 Pytorch 모델로부터 추론  \n",
    "\n",
    "1. 입력 데이터를 Pytorch Tensor로 변환해야 하고, 데이터의 shape도 모델의 입력 shape과 동일하게 변환해 주어야 한다.\n",
    "2. `eval()`mode로 전환 후, 데이터를 모델에 넣어주면 된다.\n",
    "3. Pytorch에서는 Tensor들의 연산이 이루어질 때, 자동으로 gradient를 계산한다.  \n",
    "추론에서는 gradient를 계산할 필요가 없기 때문에, `torch.no_grad()`를 with context 구문으로 처리하면 된다.  \n",
    "`with torch.no_grad():`  \n",
    "동일한 효과  \n",
    "`with torch.set_grad_enabled(False):` * 훈련 모드에서는 True, 추론 모드에서는 False로 조절  \n",
    "4. 출력 결과를 Numpy array로 변환하기 위해서는 CPU Tensor로 먼저 변환해야한다.  \n",
    "Tensor의 `requires_grad`속성이 True인 경우에는 `detach()`를 먼저 해주어야 한다."
   ]
  },
  {
   "cell_type": "code",
   "execution_count": 22,
   "metadata": {},
   "outputs": [
    {
     "name": "stdout",
     "output_type": "stream",
     "text": [
      "0.52에 대한 예측값 = 1.5043\n",
      "0.75에 대한 예측값 = 1.9504\n"
     ]
    }
   ],
   "source": [
    "new_data = torch.tensor([0.52, 0.75]).reshape(-1,1).to(device)\n",
    "with torch.no_grad():\n",
    "    model.eval()\n",
    "    prediction  = model(new_data).cpu().numpy().reshape(-1)\n",
    "for x,y in zip(new_data.cpu().numpy().reshape(-1), prediction):\n",
    "    print(f'{x:.2f}에 대한 예측값 = {y:.4f}')"
   ]
  },
  {
   "cell_type": "markdown",
   "metadata": {},
   "source": [
    "### 2.4.7 Scikit-Learn 구현  \n",
    "\n",
    "선형회귀 분석 API : `LinearRegression`"
   ]
  },
  {
   "cell_type": "code",
   "execution_count": null,
   "metadata": {},
   "outputs": [],
   "source": [
    "%pip install scikit-learn"
   ]
  },
  {
   "cell_type": "code",
   "execution_count": 28,
   "metadata": {},
   "outputs": [
    {
     "name": "stdout",
     "output_type": "stream",
     "text": [
      "결정 계수: 0.9484605364424324\n",
      "기울기: [2.0395017], bias: 0.4453361968069177\n",
      "예측: [1.50587708 1.97496248]\n"
     ]
    }
   ],
   "source": [
    "import numpy as np\n",
    "from sklearn.linear_model import LinearRegression\n",
    "import matplotlib.pyplot as plt\n",
    "\n",
    "\n",
    "np.random.seed(100)\n",
    "N = 50\n",
    "x = np.random.rand(N)\n",
    "Y = 2*x + 0.5 + np.random.randn(N)*0.15\n",
    "X = x.reshape(-1,1) # (N,) -> (N,1)\n",
    "\n",
    "reg = LinearRegression().fit(X, Y)\n",
    "print(f'결정 계수: {reg.score(X, Y)}') # coefficient of determination(결정 계수)\n",
    "\n",
    "print(f'기울기: {reg.coef_}, bias: {reg.intercept_}')\n",
    "\n",
    "new_data = np.array([0.52, 0.75]).reshape(-1,1)\n",
    "print(f'예측: {reg.predict(new_data)}')\n",
    "     "
   ]
  },
  {
   "cell_type": "markdown",
   "metadata": {},
   "source": [
    "### 2,4,9 Tensorflow, Pytorch로 Gradient 계산하기  \n",
    "\n",
    "tensorflow, pytorch, numpy 계산 결과가 모두 동일하다."
   ]
  },
  {
   "cell_type": "code",
   "execution_count": 1,
   "metadata": {},
   "outputs": [
    {
     "name": "stdout",
     "output_type": "stream",
     "text": [
      "Pytorch 결과: \n",
      "tensor([[-0.1381, -0.7412, -0.7256],\n",
      "        [ 0.3245,  2.9489,  2.7682]], dtype=torch.float64) \n",
      " tensor([[-0.2680, -0.4084],\n",
      "        [ 0.3884,  0.8700],\n",
      "        [ 0.2618,  0.7164]], dtype=torch.float64)\n"
     ]
    }
   ],
   "source": [
    "import numpy as np\n",
    "import torch\n",
    "import tensorflow as tf\n",
    "import matplotlib.pyplot as plt\n",
    "\n",
    "# Pytorch로 계산\n",
    "X0 = np.random.randn(2,3)\n",
    "W0 = np.random.randn(3,2)\n",
    "dY0 = np.random.randn(2,2)\n",
    "# Pytorch tensor로 변환\n",
    "X = torch.tensor(X0,requires_grad=True)\n",
    "W = torch.tensor(W0,requires_grad=True)\n",
    "dY = torch.tensor(dY0)  # upstream gradient\n",
    "\n",
    "\n",
    "Y = torch.mm(X,W)\n",
    "Y.backward(dY)\n",
    "\n",
    "print(f'Pytorch 결과: \\n{X.grad} \\n {W.grad}')"
   ]
  },
  {
   "cell_type": "code",
   "execution_count": 3,
   "metadata": {},
   "outputs": [
    {
     "name": "stdout",
     "output_type": "stream",
     "text": [
      "tensor([[-0.1381, -0.7412, -0.7256],\n",
      "        [ 0.3245,  2.9489,  2.7682]], dtype=torch.float64,\n",
      "       grad_fn=<MmBackward0>)\n",
      "tensor([[-0.2680, -0.4084],\n",
      "        [ 0.3884,  0.8700],\n",
      "        [ 0.2618,  0.7164]], dtype=torch.float64, grad_fn=<MmBackward0>)\n"
     ]
    }
   ],
   "source": [
    "# torch.mm()은 행렬 곱셈\n",
    "print(torch.mm(dY,W.T))   # X.grad와 일치\n",
    "print(torch.mm(X.T,dY))  # W.grad와 일치"
   ]
  },
  {
   "cell_type": "code",
   "execution_count": 5,
   "metadata": {},
   "outputs": [
    {
     "name": "stdout",
     "output_type": "stream",
     "text": [
      "tf.Tensor(\n",
      "[[-0.13810097 -0.74124774 -0.72559481]\n",
      " [ 0.32451858  2.94886403  2.76817565]], shape=(2, 3), dtype=float64) tf.Tensor(\n",
      "[[-0.26800424 -0.40836022]\n",
      " [ 0.38843299  0.87004454]\n",
      " [ 0.26178812  0.71643685]], shape=(3, 2), dtype=float64)\n"
     ]
    }
   ],
   "source": [
    "# Tensorflow로 계산\n",
    "# Tensorflow Tensor로 변환\n",
    "X = tf.convert_to_tensor(X0)\n",
    "W = tf.convert_to_tensor(W0)\n",
    "dY = tf.convert_to_tensor(dY0)\n",
    "\n",
    "with tf.GradientTape() as tape:\n",
    "    tape.watch([X,W]) # 상수를 미분할 수 있게 바꿔줌\n",
    "    Y = tf.matmul(X,W)\n",
    "\n",
    "dX,dW = tape.gradient(Y, [X,W],output_gradients=dY)   # output_gradients = upstream gradient\n",
    "print(dX,dW) # Pytorch 결과와 동일"
   ]
  },
  {
   "cell_type": "markdown",
   "metadata": {},
   "source": [
    "- 직접 생성하는 tensor는 default 값이 `requires_grad=False`이다 그래서 명시적으로 `requires_grad=True`로 설정해 주어야함  \n",
    "- `nn.Linear`같은 API 내부에서 생성되는 tensor(weight,bias)는 자동으로 `requires_grad=True`로 설정  \n",
    "- Tensorflow에서 gradient를 계산하기 위해서는 `tf.GradientTape()`를 사용한다.  \n",
    "X,W가 상수이기 때문에 `watch()`를 통해 gradient를 계산해야 하는 tensor로 지정해야 한다.  \n",
    "gradient는 `tape.gardient()`에서 계산한다.\n",
    "- X,W를 만들 때, `tf.Variable(X)`,`tf.Variable(W)`로 생성했다면 변수가 되기 때문에 `watch()`로 지정하지 않아도 된다.\n",
    "- `tape.gradient(loss,x)` 후진 모드 자동 미분 (Reverse mode automatic differentiation) 방법으로 손실에 대한 x의 미분을 계산"
   ]
  },
  {
   "cell_type": "code",
   "execution_count": 6,
   "metadata": {},
   "outputs": [
    {
     "name": "stdout",
     "output_type": "stream",
     "text": [
      "tf.Tensor(\n",
      "[[-0.13810097 -0.74124774 -0.72559481]\n",
      " [ 0.32451858  2.94886403  2.76817565]], shape=(2, 3), dtype=float64) tf.Tensor(\n",
      "[[-0.26800424 -0.40836022]\n",
      " [ 0.38843299  0.87004454]\n",
      " [ 0.26178812  0.71643685]], shape=(3, 2), dtype=float64)\n"
     ]
    }
   ],
   "source": [
    "XX = tf.Variable(X0)\n",
    "WW = tf.Variable(W0)\n",
    "\n",
    "with tf.GradientTape() as tape:\n",
    "    YY = tf.matmul(XX,WW)\n",
    "\n",
    "dXX,dWW = tape.gradient(YY, [XX,WW],output_gradients=dY)   # output_gradients = upstream gradient\n",
    "print(dXX,dWW)\n"
   ]
  },
  {
   "cell_type": "markdown",
   "metadata": {},
   "source": [
    "- `tape.gradient`를 한 번 호출하고 나면, 자동 계산을 위해 저장해 놓은 값들이 지워진다.  \n",
    "`tape.gradient`를 두 번 이상 호출하기 위해서는 `persitent=True` 옵션을 지정하고 사용이 끝난 tape는 지워주어야 한다."
   ]
  },
  {
   "cell_type": "code",
   "execution_count": 7,
   "metadata": {},
   "outputs": [
    {
     "name": "stdout",
     "output_type": "stream",
     "text": [
      "tf.Tensor(\n",
      "[[-0.13810097 -0.74124774 -0.72559481]\n",
      " [ 0.32451858  2.94886403  2.76817565]], shape=(2, 3), dtype=float64) tf.Tensor(\n",
      "[[-0.26800424 -0.40836022]\n",
      " [ 0.38843299  0.87004454]\n",
      " [ 0.26178812  0.71643685]], shape=(3, 2), dtype=float64)\n"
     ]
    }
   ],
   "source": [
    "with tf.GradientTape(persistent=True) as tape:\n",
    "    YY = tf.matmul(XX,WW)\n",
    "\n",
    "dXX= tape.gradient(YY, XX,output_gradients=dY)\n",
    "dWW= tape.gradient(YY, WW,output_gradients=dY)\n",
    "del tape\n",
    "print(dXX,dWW)"
   ]
  }
 ],
 "metadata": {
  "kernelspec": {
   "display_name": "Python 3",
   "language": "python",
   "name": "python3"
  },
  "language_info": {
   "codemirror_mode": {
    "name": "ipython",
    "version": 3
   },
   "file_extension": ".py",
   "mimetype": "text/x-python",
   "name": "python",
   "nbconvert_exporter": "python",
   "pygments_lexer": "ipython3",
   "version": "3.12.4"
  }
 },
 "nbformat": 4,
 "nbformat_minor": 2
}
